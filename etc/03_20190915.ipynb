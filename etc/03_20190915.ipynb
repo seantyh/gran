{
 "cells": [
  {
   "cell_type": "code",
   "execution_count": 1,
   "metadata": {},
   "outputs": [],
   "source": [
    "import sys\n",
    "sys.path.append(\"../\")\n",
    "import gran"
   ]
  },
  {
   "cell_type": "code",
   "execution_count": 2,
   "metadata": {},
   "outputs": [],
   "source": [
    "import pickle\n",
    "import redis\n",
    "from gran.utils import tqdm"
   ]
  },
  {
   "cell_type": "markdown",
   "metadata": {},
   "source": [
    "## Redis manipuation"
   ]
  },
  {
   "cell_type": "code",
   "execution_count": 3,
   "metadata": {},
   "outputs": [],
   "source": [
    "r = redis.Redis(gran.config.REDIS_HOST, gran.config.REDIS_PORT, db=3)"
   ]
  },
  {
   "cell_type": "code",
   "execution_count": 4,
   "metadata": {},
   "outputs": [
    {
     "data": {
      "text/plain": [
       "5011002"
      ]
     },
     "execution_count": 4,
     "metadata": {},
     "output_type": "execute_result"
    }
   ],
   "source": [
    "r.dbsize()"
   ]
  },
  {
   "cell_type": "code",
   "execution_count": null,
   "metadata": {},
   "outputs": [
    {
     "data": {
      "application/vnd.jupyter.widget-view+json": {
       "model_id": "389c308459c0492fb705ddaa75f0e757",
       "version_major": 2,
       "version_minor": 0
      },
      "text/plain": [
       "HBox(children=(IntProgress(value=0, max=5011002), HTML(value='')))"
      ]
     },
     "metadata": {},
     "output_type": "display_data"
    }
   ],
   "source": [
    "ngram_data = {}\n",
    "redis_keys = r.keys()\n",
    "for k in tqdm(redis_keys):\n",
    "    freq = int(r.get(k).decode())\n",
    "    ng = k.decode()\n",
    "    ngram_data[ng] = freq"
   ]
  },
  {
   "cell_type": "code",
   "execution_count": null,
   "metadata": {},
   "outputs": [],
   "source": [
    "len(ngram_data)"
   ]
  },
  {
   "cell_type": "code",
   "execution_count": null,
   "metadata": {},
   "outputs": [],
   "source": [
    "fpath = gran.get_cache_path('lang_model', 'penta_grams.pkl')\n",
    "with open(fpath, \"wb\") as fout:\n",
    "    pickle.dump(ngram_data, fout)"
   ]
  },
  {
   "cell_type": "markdown",
   "metadata": {},
   "source": [
    "## NGram cache manipulation"
   ]
  },
  {
   "cell_type": "code",
   "execution_count": 3,
   "metadata": {},
   "outputs": [],
   "source": [
    "from itertools import islice"
   ]
  },
  {
   "cell_type": "code",
   "execution_count": 4,
   "metadata": {},
   "outputs": [],
   "source": [
    "ug_path = gran.get_cache_path('lang_model', 'uni_grams.pkl')\n",
    "bg_path = gran.get_cache_path('lang_model', 'bi_grams.pkl')\n",
    "tg_path = gran.get_cache_path('lang_model', 'tri_grams.pkl')\n",
    "qg_path = gran.get_cache_path('lang_model', 'quad_grams.pkl')\n",
    "pg_path = gran.get_cache_path('lang_model', 'penta_grams.pkl')"
   ]
  },
  {
   "cell_type": "code",
   "execution_count": 5,
   "metadata": {},
   "outputs": [],
   "source": [
    "with open(ug_path, \"rb\") as fin:\n",
    "    ug_data = pickle.load(fin)[0]\n",
    "with open(bg_path, \"rb\") as fin:\n",
    "    bg_data = pickle.load(fin)[0]"
   ]
  },
  {
   "cell_type": "code",
   "execution_count": 6,
   "metadata": {},
   "outputs": [],
   "source": [
    "with open(tg_path, \"rb\") as fin:\n",
    "    tg_data = pickle.load(fin)\n",
    "with open(qg_path, \"rb\") as fin:\n",
    "    qg_data = pickle.load(fin)\n",
    "with open(pg_path, \"rb\") as fin:\n",
    "    pg_data = pickle.load(fin)"
   ]
  },
  {
   "cell_type": "code",
   "execution_count": 7,
   "metadata": {},
   "outputs": [],
   "source": [
    "ng_data = (ug_data, bg_data, tg_data, qg_data, pg_data)"
   ]
  },
  {
   "cell_type": "code",
   "execution_count": 8,
   "metadata": {},
   "outputs": [
    {
     "data": {
      "text/plain": [
       "[57383, 9173614, 5518177, 5522066, 5011002]"
      ]
     },
     "execution_count": 8,
     "metadata": {},
     "output_type": "execute_result"
    }
   ],
   "source": [
    "[len(x) for x in ng_data]"
   ]
  },
  {
   "cell_type": "code",
   "execution_count": 9,
   "metadata": {},
   "outputs": [],
   "source": [
    "from collections import Counter"
   ]
  },
  {
   "cell_type": "code",
   "execution_count": 10,
   "metadata": {},
   "outputs": [],
   "source": [
    "from opencc import OpenCC"
   ]
  },
  {
   "cell_type": "code",
   "execution_count": 11,
   "metadata": {},
   "outputs": [],
   "source": [
    "s2t = OpenCC('s2t')"
   ]
  },
  {
   "cell_type": "code",
   "execution_count": 19,
   "metadata": {},
   "outputs": [],
   "source": [
    "ug_counter = Counter(ug_data)"
   ]
  },
  {
   "cell_type": "code",
   "execution_count": 20,
   "metadata": {},
   "outputs": [
    {
     "data": {
      "text/plain": [
       "[('', 26859461025),\n",
       " ('的', 3511391624),\n",
       " ('是', 619146573),\n",
       " ('在', 588109412),\n",
       " ('了', 562198392),\n",
       " ('和', 497854042),\n",
       " ('年', 430726648),\n",
       " ('一', 421429762),\n",
       " ('有', 316246666),\n",
       " ('這', 312325138),\n",
       " ('中', 277262338),\n",
       " ('不', 265573106),\n",
       " ('人', 252572553),\n",
       " ('上', 215940831),\n",
       " ('爲', 205177890),\n",
       " ('種', 204982762),\n",
       " ('對', 200781738),\n",
       " ('第', 198237562),\n",
       " ('他', 196765006),\n",
       " ('經濟', 183432192)]"
      ]
     },
     "execution_count": 20,
     "metadata": {},
     "output_type": "execute_result"
    }
   ],
   "source": [
    "[(s2t.convert(x[0]), x[1])  for x in ug_counter.most_common(20)]"
   ]
  },
  {
   "cell_type": "code",
   "execution_count": 17,
   "metadata": {},
   "outputs": [],
   "source": [
    "bg_counter = Counter(bg_data)"
   ]
  },
  {
   "cell_type": "code",
   "execution_count": 18,
   "metadata": {},
   "outputs": [
    {
     "data": {
      "text/plain": [
       "[('這|種', 133062636),\n",
       " ('一|種', 115384456),\n",
       " ('中|的', 99090864),\n",
       " ('社會|主義', 90292396),\n",
       " ('這|是', 82549068),\n",
       " ('這|一', 75183157),\n",
       " ('他|的', 74557630),\n",
       " ('上|的', 74225020),\n",
       " ('自己|的', 73285484),\n",
       " ('人|的', 71637404),\n",
       " ('第|二', 71134532),\n",
       " ('的|發展', 70501324),\n",
       " ('的|是', 67504776),\n",
       " ('的|人', 66424254),\n",
       " ('的|一', 63653798),\n",
       " ('之|間', 61699151),\n",
       " ('第|一', 60380344),\n",
       " ('的|的', 58781052),\n",
       " ('都|是', 55281896),\n",
       " ('各|種', 54311201)]"
      ]
     },
     "execution_count": 18,
     "metadata": {},
     "output_type": "execute_result"
    }
   ],
   "source": [
    "[(s2t.convert(x[0]), x[1])  for x in bg_counter.most_common(20)]"
   ]
  },
  {
   "cell_type": "code",
   "execution_count": 13,
   "metadata": {},
   "outputs": [],
   "source": [
    "tg_counter = Counter(tg_data)"
   ]
  },
  {
   "cell_type": "code",
   "execution_count": 16,
   "metadata": {},
   "outputs": [
    {
     "data": {
      "text/plain": [
       "[('之|间|睡', 6566270),\n",
       " ('之|间|艰难', 6345571),\n",
       " ('之|间|真诚', 5988431),\n",
       " ('之|间|礼物', 5984514),\n",
       " ('是|一|类似', 5912456),\n",
       " ('是|一|紧张', 5912192),\n",
       " ('是|一|良好', 5910738),\n",
       " ('是|一|红色', 5910733),\n",
       " ('是|一|第', 5903927),\n",
       " ('是|一|读', 5899802),\n",
       " ('是|一|等', 5899139),\n",
       " ('的|各|调', 5714883),\n",
       " ('的|一|立刻', 4674958),\n",
       " ('的|一|种群', 4674826),\n",
       " ('的|一|空', 4674208),\n",
       " ('的|一|第', 4673292),\n",
       " ('的|一|给', 4671438),\n",
       " ('的|一|积', 4671226),\n",
       " ('的|一|裂', 4668365),\n",
       " ('的|基础|也', 4089922)]"
      ]
     },
     "execution_count": 16,
     "metadata": {},
     "output_type": "execute_result"
    }
   ],
   "source": [
    "tg_counter.most_common(20)"
   ]
  },
  {
   "cell_type": "code",
   "execution_count": null,
   "metadata": {},
   "outputs": [],
   "source": []
  }
 ],
 "metadata": {
  "kernelspec": {
   "display_name": "Python 3",
   "language": "python",
   "name": "python3"
  },
  "language_info": {
   "codemirror_mode": {
    "name": "ipython",
    "version": 3
   },
   "file_extension": ".py",
   "mimetype": "text/x-python",
   "name": "python",
   "nbconvert_exporter": "python",
   "pygments_lexer": "ipython3",
   "version": "3.7.3"
  }
 },
 "nbformat": 4,
 "nbformat_minor": 4
}
