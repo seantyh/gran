{
 "cells": [
  {
   "cell_type": "code",
   "execution_count": 1,
   "metadata": {},
   "outputs": [],
   "source": [
    "import re"
   ]
  },
  {
   "cell_type": "code",
   "execution_count": 3,
   "metadata": {},
   "outputs": [
    {
     "name": "stdout",
     "output_type": "stream",
     "text": [
      "LITERAL 49\n",
      "LITERAL 50\n",
      "LITERAL 51\n",
      "SUBPATTERN 1 0 0\n",
      "  IN\n",
      "    LITERAL 52\n",
      "    LITERAL 53\n",
      "\n",
      " 0. INFO 12 0b1 4 4 (to 13)\n",
      "      prefix_skip 3\n",
      "      prefix [0x31, 0x32, 0x33] ('123')\n",
      "      overlap [0, 0, 0]\n",
      "13: LITERAL 0x31 ('1')\n",
      "15. LITERAL 0x32 ('2')\n",
      "17. LITERAL 0x33 ('3')\n",
      "19. MARK 0\n",
      "21. IN 5 (to 27)\n",
      "23.   RANGE 0x34 0x35 ('4'-'5')\n",
      "26.   FAILURE\n",
      "27: MARK 1\n",
      "29. SUCCESS\n"
     ]
    }
   ],
   "source": [
    "aa=re.compile(\"123(4|5)\", re.DEBUG)"
   ]
  },
  {
   "cell_type": "code",
   "execution_count": 7,
   "metadata": {},
   "outputs": [
    {
     "data": {
      "text/plain": [
       "<function Pattern.scanner(string, pos=0, endpos=9223372036854775807)>"
      ]
     },
     "execution_count": 7,
     "metadata": {},
     "output_type": "execute_result"
    }
   ],
   "source": [
    "aa.scanner"
   ]
  },
  {
   "cell_type": "code",
   "execution_count": null,
   "metadata": {},
   "outputs": [],
   "source": []
  }
 ],
 "metadata": {
  "kernelspec": {
   "display_name": "Python 3",
   "language": "python",
   "name": "python3"
  },
  "language_info": {
   "codemirror_mode": {
    "name": "ipython",
    "version": 3
   },
   "file_extension": ".py",
   "mimetype": "text/x-python",
   "name": "python",
   "nbconvert_exporter": "python",
   "pygments_lexer": "ipython3",
   "version": "3.7.2"
  }
 },
 "nbformat": 4,
 "nbformat_minor": 4
}
