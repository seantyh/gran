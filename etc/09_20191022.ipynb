{
 "cells": [
  {
   "cell_type": "code",
   "execution_count": 1,
   "metadata": {},
   "outputs": [],
   "source": [
    "%load_ext autoreload\n",
    "%autoreload 2"
   ]
  },
  {
   "cell_type": "code",
   "execution_count": 2,
   "metadata": {},
   "outputs": [],
   "source": [
    "import gran"
   ]
  },
  {
   "cell_type": "code",
   "execution_count": 3,
   "metadata": {},
   "outputs": [],
   "source": [
    "pixnet_corpus_path = \"E:/LangOn/Corpus/top_articles_200k.jl.gz\""
   ]
  },
  {
   "cell_type": "code",
   "execution_count": 14,
   "metadata": {},
   "outputs": [],
   "source": [
    "import gzip\n",
    "import json\n",
    "from collections import Counter\n",
    "from bs4 import BeautifulSoup\n",
    "    "
   ]
  },
  {
   "cell_type": "code",
   "execution_count": 19,
   "metadata": {},
   "outputs": [
    {
     "data": {
      "application/vnd.jupyter.widget-view+json": {
       "model_id": "149c1f68e8b043419158d22a3120c531",
       "version_major": 2,
       "version_minor": 0
      },
      "text/plain": [
       "HBox(children=(IntProgress(value=1, bar_style='info', max=1), HTML(value='')))"
      ]
     },
     "metadata": {},
     "output_type": "display_data"
    },
    {
     "name": "stdout",
     "output_type": "stream",
     "text": [
      "\n"
     ]
    }
   ],
   "source": [
    "counter = Counter()\n",
    "pbar = gran.tqdm()\n",
    "with gzip.open(pixnet_corpus_path, \"rt\", encoding=\"UTF-8\") as fin:    \n",
    "    ln = fin.readline()\n",
    "    while True:\n",
    "        if not ln: break        \n",
    "        dat = json.loads(ln)\n",
    "        site_category = dat.get(\"site_category\", \"\")\n",
    "        counter.update([site_category])\n",
    "        ln = fin.readline()\n",
    "        pbar.update()\n",
    "pbar.close()"
   ]
  },
  {
   "cell_type": "code",
   "execution_count": 69,
   "metadata": {},
   "outputs": [
    {
     "data": {
      "text/plain": [
       "208743"
      ]
     },
     "execution_count": 69,
     "metadata": {},
     "output_type": "execute_result"
    }
   ],
   "source": [
    "sum(counter.values())"
   ]
  },
  {
   "cell_type": "code",
   "execution_count": 22,
   "metadata": {},
   "outputs": [
    {
     "data": {
      "text/plain": [
       "[('美味食記', 84169),\n",
       " ('國外旅遊', 49996),\n",
       " ('國內旅遊', 34559),\n",
       " ('美容彩妝', 15971),\n",
       " ('食譜分享', 13558),\n",
       " ('時尚流行', 10308),\n",
       " ('生活綜合', 46),\n",
       " ('攝影寫真', 45),\n",
       " ('親子育兒', 36),\n",
       " ('活動紀錄', 9)]"
      ]
     },
     "execution_count": 22,
     "metadata": {},
     "output_type": "execute_result"
    }
   ],
   "source": [
    "counter.most_common(10)"
   ]
  },
  {
   "cell_type": "code",
   "execution_count": 31,
   "metadata": {},
   "outputs": [
    {
     "data": {
      "application/vnd.jupyter.widget-view+json": {
       "model_id": "6b7a55f00ba04dbf97768be5ae0ffb35",
       "version_major": 2,
       "version_minor": 0
      },
      "text/plain": [
       "HBox(children=(IntProgress(value=1, bar_style='info', max=1), HTML(value='')))"
      ]
     },
     "metadata": {},
     "output_type": "display_data"
    }
   ],
   "source": [
    "foods = []\n",
    "pbar = gran.tqdm()\n",
    "with gzip.open(pixnet_corpus_path, \"rt\", encoding=\"UTF-8\") as fin:    \n",
    "    ln = fin.readline()\n",
    "    while True:\n",
    "        if not ln: break\n",
    "        dat = json.loads(ln)                \n",
    "        if dat.get(\"site_category\") == '美味食記':                        \n",
    "            ptag = BeautifulSoup(dat.get(\"body\", \"\"))\n",
    "            foods.append(ptag.text)        \n",
    "            pbar.update()\n",
    "        ln = fin.readline()        \n",
    "pbar.close()"
   ]
  },
  {
   "cell_type": "code",
   "execution_count": 33,
   "metadata": {},
   "outputs": [],
   "source": [
    "gran.install_data_cache(\"pixnet_cache\")\n",
    "foods_path = gran.get_cache_path(\"pixnet_cache\", \"foods.pkl\")"
   ]
  },
  {
   "cell_type": "code",
   "execution_count": 35,
   "metadata": {},
   "outputs": [],
   "source": [
    "import pickle\n",
    "with open(foods_path, \"wb\") as fout:\n",
    "    pickle.dump(foods, fout)"
   ]
  },
  {
   "cell_type": "code",
   "execution_count": 41,
   "metadata": {},
   "outputs": [
    {
     "data": {
      "text/plain": [
       "'Character count: 154,690,439'"
      ]
     },
     "execution_count": 41,
     "metadata": {},
     "output_type": "execute_result"
    }
   ],
   "source": [
    "# character count\n",
    "\"Character count: {:,}\".format(sum([len(x) for x in foods]))"
   ]
  },
  {
   "cell_type": "code",
   "execution_count": 37,
   "metadata": {},
   "outputs": [
    {
     "data": {
      "text/plain": [
       "'\\n最近好像又到了尋覓伴手禮的時間了\\n之前都會買月餅回老家，但發現月餅份量也多，\\n熱量也是比較高，經常會銷路比較沒那麼好\\n\\n這次改吃帶點養生材料的餅乾-千味軒 千味餅\\n分享包200g NT$120元\\n這是來自台南的手工餅乾\\n\\n研發的老闆是20歲出頭的年輕人，是個迷途青年回家鄉台南奮鬥，用不斷嘗試、研發的精神，\\n結合了台、日、法式的創新技術製法創造出特殊的口感\\n說服經營傳統麵包店的母親而創立的自己的品牌\\n起緣滿讓人感動的耶XD這種奮鬥不懈的精神讓人敬佩!\\n<下圖來自官方圖片>\\n\\n看到食材內竟然有棉花糖耶!!!\\n用棉花糖來做餅乾真讓人期待XD\\n<下圖來自官方圖片>\\n\\n另外有沒有看到材料內有非常多乾果\\n包含：枸杞、葡萄乾、青提子乾、蔓越莓乾、橘子皮等\\n感覺都是非常養生的食材阿!\\n\\n分享包 220g\\n保存期限：1個月(未拆封)\\n\\n拆封後要趕快吃完，放在陰涼處\\n外包裝有夾鏈袋的設計，方便沒吃完密封好貼心!\\n\\n我的是綜合口味喔!\\n裡面包含 原味、黑糖\\n每個餅都有單獨的衣服好好的收著\\n\\n拆開包裝就微微散發香氣\\n看切面是個很特別的餅乾耶!!\\n而且可以看到他們使用的乾果類食材扎扎實實包覆在裡面\\n\\n黑色的是黑糖口味，我覺得黑糖口味喜愛黑糖的人會喜歡阿!\\n他的口感有點鬆鬆軟軟帶點Q彈的感覺\\n\\n我個人偏愛原味口味阿!!多董愛黑糖口味!!\\n剛好沒互搶XD\\n冰起來之後吃，還會有不同風味喔!\\n長溫下吃軟軟QQ的~冰起來吃後口感更佳耶\\n\\n這個餅乾不會太甜喔!!感覺甜度有設計調整過\\n適合現代人低糖低油的健康取向\\n這包給長輩吃也很棒!\\n裡面包含的乾果類也是有益好物阿!\\n\\n其實阿血之前對養生類餅乾有點刻板映像\\n會怕葡萄乾跟枸杞味道有些害怕排斥\\n但這款竟然我一開始吃沒感覺到在吃這些我害怕的乾果耶XD\\n\\n中秋節快到啦!\\n這個適合送給長輩、爸媽\\n\\n我的是分享包裝喔!!\\n他們也有推出送禮的禮盒包裝\\n小禮盒350g\\n禮盒組650g\\n\\n中秋禮盒推薦!!\\n禮盒中秋優惠 買十送一\\n\\n宅配運費180元，滿2200元免運費\\n\\n金沢·千味軒\\n地址：台南市西港區新復里溪埔寮32之6號\\n訂購專線：0966732197\\n營業時間：週一～週五 10:00～18:00\\n粉絲頁\\n\\n更多宅配美食在這裡喔!!\\n<宅配美食>城裡的月光土雞餐廳-三杯雞、四川泡椒雞、阿嬤菜脯雞-真空包裝不失原味喔!超涮嘴\\n<宅配美食>優莉亞水果酒-馨香水蜜桃/清新葡萄柚-女孩也可以輕鬆駕馭的低酒精飲品!\\n<宅配美食>妮娜巧克力工坊-七夕情人節珠寶盒-告白必勝款!愛心禮盒~今年七夕就把心送給心愛的人吧!\\n【宅配/蛋糕】新北中和/甜點/團購-La Pissenlit 蒲公英的秘密。手作烘焙坊❤比利時濃情巧克力蛋糕❤蘋果日報大推團購下午茶甜點\\n<宅配美食>海爺爺蔬活泡菜x黑豆食府-爺爺親手做給奶奶泡菜的浪漫愛情故事!現在你也可以吃到這個夢幻手工泡菜囉!\\n<宅配美食>甜蜜品味 so sweet 布丁奶酪-辦公室女孩激推的下午茶甜點!純手工製作搭配新鮮水果!\\n<宅配美食>CHEERS起司工坊原味重乳酪蛋糕-台南網購美食推薦!重乳酪香氣濃郁好幸福~冷凍後像吃冰淇淋般的棉密!\\n<宅配美食>「料理職人_和風咖哩雞/精燉豚肉」聯夏食品-有了方便調理包，手殘人10分鐘上菜!\\n<宅配美食>蔬果工場北海道水果牛奶玉米-生吃、入菜都好好味的玉米喔！！\\n'"
      ]
     },
     "execution_count": 37,
     "metadata": {},
     "output_type": "execute_result"
    }
   ],
   "source": [
    "foods[0]"
   ]
  },
  {
   "cell_type": "markdown",
   "metadata": {},
   "source": [
    "# Find Patterns"
   ]
  },
  {
   "cell_type": "code",
   "execution_count": 45,
   "metadata": {},
   "outputs": [],
   "source": [
    "import pandas as pd"
   ]
  },
  {
   "cell_type": "code",
   "execution_count": 46,
   "metadata": {},
   "outputs": [],
   "source": [
    "annot_path = gran.get_cache_path('deep_annot', 'annotations.csv')\n",
    "annot = pd.read_csv(annot_path)"
   ]
  },
  {
   "cell_type": "code",
   "execution_count": 51,
   "metadata": {},
   "outputs": [],
   "source": [
    "pats = annot.lexical_unit[annot.form == 3.2].tolist()"
   ]
  },
  {
   "cell_type": "code",
   "execution_count": 63,
   "metadata": {},
   "outputs": [],
   "source": [
    "import re\n",
    "pats_counter = {}"
   ]
  },
  {
   "cell_type": "code",
   "execution_count": 64,
   "metadata": {},
   "outputs": [
    {
     "data": {
      "application/vnd.jupyter.widget-view+json": {
       "model_id": "3d2a0f0802f548c1a9cfdda394ceca6e",
       "version_major": 2,
       "version_minor": 0
      },
      "text/plain": [
       "HBox(children=(IntProgress(value=0, max=312), HTML(value='')))"
      ]
     },
     "metadata": {},
     "output_type": "display_data"
    }
   ],
   "source": [
    "for pat_x in gran.tqdm(pats):\n",
    "    pat_re = re.compile(pat_x)\n",
    "    for article_x in foods:    \n",
    "        pats_counter[pat_x] = pats_counter.get(pat_x, 0) + len(pat_re.findall(article_x))    "
   ]
  },
  {
   "cell_type": "code",
   "execution_count": 67,
   "metadata": {},
   "outputs": [
    {
     "data": {
      "text/plain": [
       "[('(好)+吃(唷|呦)?', 193244),\n",
       " ('～+', 185502),\n",
       " ('朋友', 178590),\n",
       " ('XD+', 77263),\n",
       " ('(真的)?(超|超級|很|非常)好吃', 40415),\n",
       " ('一?整個就?', 38776),\n",
       " ('P\\\\.?S\\\\.?|p\\\\.?s\\\\.?', 36284),\n",
       " ('還不(錯|賴)說?', 29179),\n",
       " ('Q彈', 28326),\n",
       " ('單點', 24150),\n",
       " ('(每到|每次來)?必(吃|點)+', 23003),\n",
       " ('(真的)?(超|超級|很|非常)愛', 19182),\n",
       " ('入口即化', 17937),\n",
       " ('沒有?(想|料)到', 17637),\n",
       " ('(真的)?(好|很|超|超級|非常)棒', 17000),\n",
       " ('很是?不錯', 14248),\n",
       " ('立(馬|刻|即)', 12560),\n",
       " ('也(很|蠻|満)?不錯', 12267),\n",
       " ('嚼勁', 11168),\n",
       " ('(調|拿捏)?(得|的)?剛剛好', 11091),\n",
       " ('fu', 10640),\n",
       " ('><', 9927),\n",
       " ('大力?推(薦|荐)?', 9114),\n",
       " ('重點(其實|應該)?是', 8497),\n",
       " ('雷', 8274),\n",
       " ('(超|就很|很)?夠味', 8167),\n",
       " ('(很|狠)?大推', 7929),\n",
       " ('低消', 7883),\n",
       " ('一整個', 7178),\n",
       " ('ㄟ', 7013)]"
      ]
     },
     "execution_count": 67,
     "metadata": {},
     "output_type": "execute_result"
    }
   ],
   "source": [
    "Counter(pats_counter).most_common(30)"
   ]
  },
  {
   "cell_type": "code",
   "execution_count": null,
   "metadata": {},
   "outputs": [],
   "source": []
  }
 ],
 "metadata": {
  "kernelspec": {
   "display_name": "Python 3",
   "language": "python",
   "name": "python3"
  },
  "language_info": {
   "codemirror_mode": {
    "name": "ipython",
    "version": 3
   },
   "file_extension": ".py",
   "mimetype": "text/x-python",
   "name": "python",
   "nbconvert_exporter": "python",
   "pygments_lexer": "ipython3",
   "version": "3.7.2"
  }
 },
 "nbformat": 4,
 "nbformat_minor": 4
}
