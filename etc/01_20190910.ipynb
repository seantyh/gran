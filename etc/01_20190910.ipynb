{
 "cells": [
  {
   "cell_type": "code",
   "execution_count": 1,
   "metadata": {},
   "outputs": [],
   "source": [
    "%load_ext autoreload\n",
    "%autoreload 2\n",
    "%matplotlib inline"
   ]
  },
  {
   "cell_type": "code",
   "execution_count": 3,
   "metadata": {},
   "outputs": [],
   "source": [
    "import sys\n",
    "sys.path.append(\"../\")\n",
    "import gran"
   ]
  },
  {
   "cell_type": "code",
   "execution_count": 4,
   "metadata": {},
   "outputs": [],
   "source": [
    "import requests\n",
    "from bs4 import BeautifulSoup"
   ]
  },
  {
   "cell_type": "code",
   "execution_count": 5,
   "metadata": {},
   "outputs": [],
   "source": [
    "news_endpoint = \"https://newsapi.org/v2/top-headlines?pageSize=100&country=tw&apiKey=3c2afe6d16f94c74899ffaaba0dc2beb\""
   ]
  },
  {
   "cell_type": "code",
   "execution_count": 5,
   "metadata": {},
   "outputs": [],
   "source": [
    "news = requests.get(news_endpoint).json()"
   ]
  },
  {
   "cell_type": "code",
   "execution_count": 16,
   "metadata": {},
   "outputs": [
    {
     "data": {
      "text/plain": [
       "'https://www.nownews.com/news/20190910/3622515/'"
      ]
     },
     "execution_count": 16,
     "metadata": {},
     "output_type": "execute_result"
    }
   ],
   "source": [
    "url = news[\"articles\"][0][\"url\"]\n",
    "url"
   ]
  },
  {
   "cell_type": "code",
   "execution_count": 11,
   "metadata": {},
   "outputs": [],
   "source": [
    "dom=BeautifulSoup(requests.get(url).text)"
   ]
  },
  {
   "cell_type": "code",
   "execution_count": 35,
   "metadata": {},
   "outputs": [
    {
     "data": {
      "text/plain": [
       "<span itemprop=\"articleBody\">\n",
       "<p>效力於北海道日本火腿鬥士隊的王柏融，今（ 10 ）日下午在浦和球場的二軍賽事中出賽，面對羅德隊投手涌井秀章敲出3分打點全壘打。而晚間日本火腿將在東京巨蛋出賽，根據日本職棒規章，在一軍登錄的選手還是能在二軍出賽。</p>\n",
       "<div class=\"td-a-rec td-a-rec-id-content_inline td_uid_21_5d7766e856623_rand td_block_template_1\"><div class=\"article-ad\" id=\"article-ad-1\" style=\"text-align: center\">\n",
       "<script src=\"https://www.googletagservices.com/tag/js/gpt.js\">\n",
       "  googletag.pubads().definePassback('/5799246/Nownews_all_article_300x250_artm', [300, 250]).display();\n",
       "</script>\n",
       "</div>\n",
       "<div data-widget_id=\"6Xga2L7N\" id=\"dablewidget_6Xga2L7N\">\n",
       "<script>\n",
       "(function(d,a,b,l,e,_) {\n",
       "if(d[b]&&d[b].q)return;d[b]=function(){(d[b].q=d[b].q||[]).push(arguments)};e=a.createElement(l);\n",
       "e.async=1;e.charset='utf-8';e.src='//static.dable.io/dist/plugin.min.js';\n",
       "_=a.getElementsByTagName(l)[0];_.parentNode.insertBefore(e,_);\n",
       "})(window,document,'dable','script');\n",
       "dable('renderWidget', 'dablewidget_6Xga2L7N');\n",
       "</script>\n",
       "</div>\n",
       "</div><p>王柏融此戰擔任3棒指定打擊，面對到羅德隊投手涌井秀章，首打席敲出 3 壘方向滾地球、第 2 打席是 2 壘方向滾地球被刺殺。不過第3打席在壘上有跑者情況下，敲出本季在 2 軍的第 2 轟， 3 分打點幫助火腿逆轉。第 4 打席游擊方向飛球被接殺。如時間允許，從浦和球場過去東京巨蛋有辦法在賽前趕到，因此尚未抹消登錄的王柏融可能還是會在一軍球場出現。</p>\n",
       "<p>晚間日本火腿將在東京巨蛋迎戰羅德隊，王柏融在東京巨蛋打擊率高達 0.444 ，是全隊在東京巨蛋打最好的打者。不過王柏融近日打擊狀況不佳，已經連續 12 個一軍打席沒有安打。</p>\n",
       "<p>根據日本職棒規定，如果在一軍登錄抹消的選手，就只能在二軍出賽， 10 日後才能上一軍；但如果沒有取消登錄，一軍選手依舊可以在二軍出賽調整。有些球隊二軍球場距離一軍球場近，甚至會「下午打二軍調整，晚上到一軍出賽」的情況。</p>\n",
       "<div class=\"code-block code-block-14\" style=\"margin: 8px auto; text-align: center; clear: both;\">\n",
       "<div></div>\n",
       "</div>\n",
       "</span>"
      ]
     },
     "execution_count": 35,
     "metadata": {},
     "output_type": "execute_result"
    }
   ],
   "source": [
    "dom.select(\"p\")[2].parent"
   ]
  },
  {
   "cell_type": "code",
   "execution_count": 6,
   "metadata": {},
   "outputs": [],
   "source": [
    "import json\n",
    "import gzip"
   ]
  },
  {
   "cell_type": "code",
   "execution_count": 7,
   "metadata": {},
   "outputs": [],
   "source": [
    "res_path = gran.get_resource_path(\"\", \"deeplexicon_export_181209005320.json.gz\")"
   ]
  },
  {
   "cell_type": "code",
   "execution_count": 9,
   "metadata": {},
   "outputs": [],
   "source": [
    "fin = gzip.open(res_path)"
   ]
  },
  {
   "cell_type": "code",
   "execution_count": 10,
   "metadata": {},
   "outputs": [],
   "source": [
    "deeplex = json.load(fin)\n",
    "fin.close()"
   ]
  },
  {
   "cell_type": "code",
   "execution_count": 11,
   "metadata": {},
   "outputs": [
    {
     "data": {
      "text/plain": [
       "317699"
      ]
     },
     "execution_count": 11,
     "metadata": {},
     "output_type": "execute_result"
    }
   ],
   "source": [
    "len(deeplex)"
   ]
  },
  {
   "cell_type": "code",
   "execution_count": 13,
   "metadata": {},
   "outputs": [
    {
     "data": {
      "text/plain": [
       "1137335"
      ]
     },
     "execution_count": 13,
     "metadata": {},
     "output_type": "execute_result"
    }
   ],
   "source": [
    "sum([len(x[\"data\"]) for x in deeplex])"
   ]
  },
  {
   "cell_type": "code",
   "execution_count": 12,
   "metadata": {},
   "outputs": [
    {
     "data": {
      "text/plain": [
       "{'lu': '節',\n",
       " 'data': {'tag_CK': '!Ndabd, Nfa, Nfd',\n",
       "  'count_CK': '0, 193, 0',\n",
       "  'tag_j': 't, zg',\n",
       "  'count_j': '4822, 117',\n",
       "  'total_count_CK': 193,\n",
       "  'total_count_j': 4939,\n",
       "  'modified_count': '1452, 202',\n",
       "  'modified_tag': 't, zg',\n",
       "  'Dyear': 2009,\n",
       "  'Byear': 1516,\n",
       "  'age': 493}}"
      ]
     },
     "execution_count": 12,
     "metadata": {},
     "output_type": "execute_result"
    }
   ],
   "source": [
    "next(iter(deeplex))"
   ]
  },
  {
   "cell_type": "code",
   "execution_count": 17,
   "metadata": {},
   "outputs": [],
   "source": [
    "ngram_url = \"http://storage.googleapis.com/books/ngrams/books/googlebooks-chi-sim-all-3gram-20120701-it.gz\""
   ]
  },
  {
   "cell_type": "code",
   "execution_count": 18,
   "metadata": {},
   "outputs": [],
   "source": [
    "data = requests.get(ngram_url).content"
   ]
  },
  {
   "cell_type": "code",
   "execution_count": 19,
   "metadata": {},
   "outputs": [
    {
     "data": {
      "text/plain": [
       "1587352"
      ]
     },
     "execution_count": 19,
     "metadata": {},
     "output_type": "execute_result"
    }
   ],
   "source": [
    "len(data)"
   ]
  },
  {
   "cell_type": "code",
   "execution_count": 20,
   "metadata": {},
   "outputs": [
    {
     "ename": "TypeError",
     "evalue": "filename must be a str or bytes object, or a file",
     "output_type": "error",
     "traceback": [
      "\u001b[0;31m---------------------------------------------------------------------------\u001b[0m",
      "\u001b[0;31mTypeError\u001b[0m                                 Traceback (most recent call last)",
      "\u001b[0;32m<ipython-input-20-7447c1d5a495>\u001b[0m in \u001b[0;36m<module>\u001b[0;34m\u001b[0m\n\u001b[0;32m----> 1\u001b[0;31m \u001b[0mfin\u001b[0m \u001b[0;34m=\u001b[0m \u001b[0mgzip\u001b[0m\u001b[0;34m.\u001b[0m\u001b[0mopen\u001b[0m\u001b[0;34m(\u001b[0m\u001b[0mrequests\u001b[0m\u001b[0;34m.\u001b[0m\u001b[0mget\u001b[0m\u001b[0;34m(\u001b[0m\u001b[0mngram_url\u001b[0m\u001b[0;34m)\u001b[0m\u001b[0;34m)\u001b[0m\u001b[0;34m\u001b[0m\u001b[0;34m\u001b[0m\u001b[0m\n\u001b[0m\u001b[1;32m      2\u001b[0m \u001b[0;32mfor\u001b[0m \u001b[0mln\u001b[0m \u001b[0;32min\u001b[0m \u001b[0mfin\u001b[0m\u001b[0;34m:\u001b[0m\u001b[0;34m\u001b[0m\u001b[0;34m\u001b[0m\u001b[0m\n\u001b[1;32m      3\u001b[0m     \u001b[0mprint\u001b[0m\u001b[0;34m(\u001b[0m\u001b[0mln\u001b[0m\u001b[0;34m)\u001b[0m\u001b[0;34m\u001b[0m\u001b[0;34m\u001b[0m\u001b[0m\n\u001b[1;32m      4\u001b[0m     \u001b[0;32mbreak\u001b[0m\u001b[0;34m\u001b[0m\u001b[0;34m\u001b[0m\u001b[0m\n\u001b[1;32m      5\u001b[0m \u001b[0mfin\u001b[0m\u001b[0;34m.\u001b[0m\u001b[0mclose\u001b[0m\u001b[0;34m(\u001b[0m\u001b[0;34m)\u001b[0m\u001b[0;34m\u001b[0m\u001b[0;34m\u001b[0m\u001b[0m\n",
      "\u001b[0;32m/usr/local/lib/python3.7/gzip.py\u001b[0m in \u001b[0;36mopen\u001b[0;34m(filename, mode, compresslevel, encoding, errors, newline)\u001b[0m\n\u001b[1;32m     55\u001b[0m         \u001b[0mbinary_file\u001b[0m \u001b[0;34m=\u001b[0m \u001b[0mGzipFile\u001b[0m\u001b[0;34m(\u001b[0m\u001b[0;32mNone\u001b[0m\u001b[0;34m,\u001b[0m \u001b[0mgz_mode\u001b[0m\u001b[0;34m,\u001b[0m \u001b[0mcompresslevel\u001b[0m\u001b[0;34m,\u001b[0m \u001b[0mfilename\u001b[0m\u001b[0;34m)\u001b[0m\u001b[0;34m\u001b[0m\u001b[0;34m\u001b[0m\u001b[0m\n\u001b[1;32m     56\u001b[0m     \u001b[0;32melse\u001b[0m\u001b[0;34m:\u001b[0m\u001b[0;34m\u001b[0m\u001b[0;34m\u001b[0m\u001b[0m\n\u001b[0;32m---> 57\u001b[0;31m         \u001b[0;32mraise\u001b[0m \u001b[0mTypeError\u001b[0m\u001b[0;34m(\u001b[0m\u001b[0;34m\"filename must be a str or bytes object, or a file\"\u001b[0m\u001b[0;34m)\u001b[0m\u001b[0;34m\u001b[0m\u001b[0;34m\u001b[0m\u001b[0m\n\u001b[0m\u001b[1;32m     58\u001b[0m \u001b[0;34m\u001b[0m\u001b[0m\n\u001b[1;32m     59\u001b[0m     \u001b[0;32mif\u001b[0m \u001b[0;34m\"t\"\u001b[0m \u001b[0;32min\u001b[0m \u001b[0mmode\u001b[0m\u001b[0;34m:\u001b[0m\u001b[0;34m\u001b[0m\u001b[0;34m\u001b[0m\u001b[0m\n",
      "\u001b[0;31mTypeError\u001b[0m: filename must be a str or bytes object, or a file"
     ]
    }
   ],
   "source": [
    "fin = gzip.open(requests.get(ngram_url))\n",
    "for ln in fin:\n",
    "    print(ln)\n",
    "    break\n",
    "fin.close()"
   ]
  },
  {
   "cell_type": "code",
   "execution_count": null,
   "metadata": {},
   "outputs": [],
   "source": []
  }
 ],
 "metadata": {
  "kernelspec": {
   "display_name": "Python 3",
   "language": "python",
   "name": "python3"
  },
  "language_info": {
   "codemirror_mode": {
    "name": "ipython",
    "version": 3
   },
   "file_extension": ".py",
   "mimetype": "text/x-python",
   "name": "python",
   "nbconvert_exporter": "python",
   "pygments_lexer": "ipython3",
   "version": "3.7.2"
  }
 },
 "nbformat": 4,
 "nbformat_minor": 4
}
