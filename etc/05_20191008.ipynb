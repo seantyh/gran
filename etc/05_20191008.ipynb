{
 "cells": [
  {
   "cell_type": "code",
   "execution_count": 6,
   "metadata": {},
   "outputs": [],
   "source": [
    "from openpyxl import Workbook, load_workbook\n",
    "import pandas as pd\n",
    "import gran\n",
    "from gran import tqdm"
   ]
  },
  {
   "cell_type": "code",
   "execution_count": 7,
   "metadata": {},
   "outputs": [],
   "source": [
    "annot1_path = gran.get_resource_path(\"deep_annot\", \"annotationFormat_yongfu.xlsx\")\n",
    "annot2_path = gran.get_resource_path(\"deep_annot\", \"annotationFormat_joy.xlsx\")"
   ]
  },
  {
   "cell_type": "code",
   "execution_count": 8,
   "metadata": {},
   "outputs": [
    {
     "data": {
      "text/plain": [
       "True"
      ]
     },
     "execution_count": 8,
     "metadata": {},
     "output_type": "execute_result"
    }
   ],
   "source": [
    "annot1_path.exists()"
   ]
  },
  {
   "cell_type": "code",
   "execution_count": 9,
   "metadata": {},
   "outputs": [
    {
     "name": "stdout",
     "output_type": "stream",
     "text": [
      "['Sheet1', 'Sheet2', 'Sheet3', 'joy']\n"
     ]
    }
   ],
   "source": [
    "annot1_sn = pd.ExcelFile(annot1_path).sheet_names\n",
    "print(annot1_sn)"
   ]
  },
  {
   "cell_type": "code",
   "execution_count": 13,
   "metadata": {},
   "outputs": [],
   "source": [
    "annot1 = pd.read_excel(annot1_path, sheet_name=annot1_sn[0])\n",
    "annot2 = pd.read_excel(annot1_path, sheet_name=annot1_sn[1])\n",
    "annot3 = pd.read_excel(annot1_path, sheet_name=annot1_sn[2])\n",
    "annot4 = pd.read_excel(annot1_path, sheet_name=annot1_sn[3])"
   ]
  },
  {
   "cell_type": "code",
   "execution_count": 32,
   "metadata": {},
   "outputs": [],
   "source": []
  },
  {
   "cell_type": "code",
   "execution_count": 14,
   "metadata": {},
   "outputs": [],
   "source": [
    "def standardize_frame(annot_x):\n",
    "    concat_cols = [\"idx\", \"annotator\", \"lexical_unit\", \"context\", \n",
    "                 \"full_text\", \"form\", \"function_coarse\", \"function_fine\"]\n",
    "    annot_x = annot_x[concat_cols]\n",
    "    annot_x = annot_x.loc[annot_x.lexical_unit.map(lambda x: not pd.isna(x)),:]\n",
    "    annot_new = annot_x.copy()\n",
    "    return annot_new"
   ]
  },
  {
   "cell_type": "code",
   "execution_count": 15,
   "metadata": {},
   "outputs": [],
   "source": [
    "annot_frames = pd.concat([standardize_frame(annot1), standardize_frame(annot2), \n",
    "                          standardize_frame(annot3), standardize_frame(annot4)])                          \n",
    "annot_frames.reset_index(inplace=True)"
   ]
  },
  {
   "cell_type": "code",
   "execution_count": 16,
   "metadata": {},
   "outputs": [
    {
     "data": {
      "text/plain": [
       "3.2    272\n",
       "3.1     79\n",
       "2.1     54\n",
       "2.2     54\n",
       "Name: form, dtype: int64"
      ]
     },
     "execution_count": 16,
     "metadata": {},
     "output_type": "execute_result"
    }
   ],
   "source": [
    "annot_frames.form.value_counts()"
   ]
  },
  {
   "cell_type": "code",
   "execution_count": 17,
   "metadata": {},
   "outputs": [
    {
     "data": {
      "text/plain": [
       "array(['A餐', '鳳梨酥', '台灣茶', '滿嘴', '粒粒分明', '有誠意', '無負擔', '也有30幾年了', '外國進口',\n",
       "       '新鮮製作', '主打', '鹹甜鹹甜', '豎起大拇哥', '不打折扣', '平價', '現點現做', '香而不油', '銅板價',\n",
       "       '七里香', '最對味', '入口', '填補一下飢餓的肚子', '朝盛地點', '佛心來著', '有名氣', '真的不簡單',\n",
       "       '別的不說', '一來', '二來', '沒什麼抵抗力', '很可以', '鎖在裡面', '在味蕾上跳舞', '第一個',\n",
       "       '想怎樣', '有沒有這麼幸運', '真的要昏倒了', '做功課', '咖啡拉花', '一口接一口', '一整個就', '百年',\n",
       "       '到爆炸', '當然是沒話說', '不囉嗦', '想哭', 'CP值', '收掉了', '一拖拉庫', '想殺人',\n",
       "       '牢牢地抓住我的胃', '壓軸', '那種很小氣', '不能抗拒', '沒讓我失望', '親民的價格', '同場加映', '銷魂',\n",
       "       '人氣依舊紅不讓', '無肉不歡', '卡滋', '打牙祭', '不知哪根筋不對', '差點下巴掉下來', '超酷的', ':P',\n",
       "       '順口', '好讚', '超優', '真的超完美', '外國的月亮真的是圓', '捧著肚子 ', '馬虎', ':)', '十足 ',\n",
       "       '當然要', '超人氣', '到底有多厲害', '入口即化', '別具一番滋味', '念念不忘', '見識見識', 'XD',\n",
       "       '一整個', '~~', '有沒有很', '太讚啦', '這就是', '喔~', '港式燒臘', '道地', '戰區', '吃口碑',\n",
       "       '堵住同事們的嘴', '超愛', '好吃', '一分錢一分貨', '一般般', '物超所值', '很是不錯', '是不是口水直流',\n",
       "       '樣樣都是', '夜貓子', '立馬', '翻桌率', '來看看', '傻眼', '打屁', '還真不少', '也很不錯',\n",
       "       '好滿足', '真的很棒', '一口接著一口', '提不起勁', '鹹粥', '九層塔', '經過一番折騰', '雷', '老店',\n",
       "       '古色古香', '碾米', '擔仔麵', '蚵仔煎', '結帳', '低消', '霸氣', '好欠吃啊', '漏網之魚',\n",
       "       '不矯情做作的', '我跟你們說', '不要跟我說', '為什麼我會知道呢?', '人馬', '回味無窮', '吼', '血拚',\n",
       "       '拉茶', '夠味', '口齒留香', '飽到肚皮都要破了', '給五臟廟的神明上上祭品', '大洋', '中規中矩', '三角窗',\n",
       "       '賣相', '刺身', '人間美味', '唇齒留香', '吃到飽', '鍋底', '多多少少', '即食', '說真的',\n",
       "       '最重要的是', '你看看', '肚子裡的惡魔', '拿不定主意', '試營運', '嘗鮮', '驚艷', '深得我心',\n",
       "       '口水都要流出來了', '翻桌速度', '大老遠', '各位鄉親啊', '還不錯說', '一年不如一年', '好像在兩個世界',\n",
       "       '迷你', '提味', '美食戰區', '粒粒分明', '入口即化', '捧油', '宅配', '龜速', '點頭如搗蒜',\n",
       "       '嚼勁', '神乎其技', '下重本', '一分錢一分貨', '咱們', '咖啡館', '鹹派', '雷諾瓦', '公館',\n",
       "       '大快朵頤', '鬆餅', '膩口', 'ㄟ', '熱驣驣', '功課', '找零', '大鈔', '妙的是', '白目',\n",
       "       '總而言之', '小麵店', '哇賽', '超讚的啦', '我沒看錯吧', '酸辣麵', '大胃王', '很得我胃', '拜託',\n",
       "       '讚啦', '口水都流滿地了啦', '車輪餅', '港式燒臘', '立馬', '路痴', '桶子油雞', '試試水溫',\n",
       "       '萬念俱灰', '有水準', '挺愛的', '飲茶', '蘿蔔糕', '好香唷', '客滿', '單點', '茶碗蒸', '沾醬',\n",
       "       '鳳爪', '叉燒', '赤赤的', '小菜', '軟絲', 'Q彈', '龜苓膏', '奶酪', '油花', '朋友', '涮',\n",
       "       '起鍋', '好吃到要飛上天啦', '嘿嘿', '明蝦', '過癮', '燒肉屋', '美食店家', '後來才知道', '花生粉',\n",
       "       '這不是重點', '重點是', '我超愛的', '不手軟', '不知道有多少', '不知道哪根筋不對', '無誤', '大推',\n",
       "       '總之就是', '歐伊細', '翻桌率', '水蓮', '龍骨瓣莕菜', '任選', '牛腩', '完全是我的菜', '一整個',\n",
       "       '豔陽高照', '透中午', '頂著大太陽', '征服了大半', '人擠人', '品質保證', '拿鼓出來鳴奏一曲退堂鼓',\n",
       "       '輕言放棄', '當場嚇到', '不誇張', '皮皮挫', '流行趨勢', '趕搭這列潮流班車', '火鍋控', '自主性',\n",
       "       '制式化', '主打', '生猛', '活蹦亂跳', '以整體結論而言', '低消', '吃到飽', '沒什麼好挑剔的',\n",
       "       '吃粗飽', 'CP值', '好山好水', '地方小吃', '拉茶', '無糖飲料', '大排長龍', '飽到肚皮都要破了',\n",
       "       '炸海鮮', '讚不絕口', '外送', '日夜顛倒', '夜貓族', '外送人員', '淡水魚人碼頭', '淡水阿給', '鍋物',\n",
       "       '定食', '為何吃個鍋會用到那麼多的餐具呢', '讓我們在看下去八', 'Q彈', '沒想到', '完食', '想想',\n",
       "       '蛋餅控', '不是很ok', '早餐店', '無名早餐店', '選項', '基本款', '燒腦', '內餡', '中規中矩',\n",
       "       '就是了', '有點落差', '現撈海鮮', '高人氣料理', '太讚', '夭壽', '太享受了', '根本是', '入口即化',\n",
       "       '小卷', '炊煮', '握壽司', '沒天理', '開車不喝酒喝酒不開車', '想不到', '別有一番風味', '咕溜咕溜',\n",
       "       '部落客', '部落格', '老饕級熟客', '森77', '最主要的', '到爆', '小屁孩', '麥當當', '紙片人',\n",
       "       ':p', '有點傷', '話說回來', '^^\"', '棒呆了', '><', '(Y)', 'P.S', '朋友',\n",
       "       '人氣美食', '怎麼有茄子', '普普', '不是同一國的', 'fu', '合我的胃口', '大驚', '嘗鮮', '加分',\n",
       "       '剛剛好', '時不時', '很夠味', '我喜歡', '我覺得還不錯耶', '一根接著一根', '好邪惡啊', '好想偷摸一把',\n",
       "       '立體拉花', '蛋糕體', '單點', '走過路過不會錯過', '俗又大碗', '麻辣臭豆腐', '不錯吃', '平平',\n",
       "       '其實並不會', '獨享', '庶民小吃', '四神湯', '踩踩街', '逢甲夜市', '幾家歡樂幾家愁', '大腸包小腸',\n",
       "       '大推', '揪團', '師大夜市', '炭烤雞排', '燈籠滷味', '生煎包', '冬瓜茶', '割包', '什麼鬼阿',\n",
       "       '菠蘿麵包', '翻了', '說實在的', '紅豆餅', '水煎包', '肉圓', '綜合羹', '炒米粉', '油蔥',\n",
       "       '粒粒分明', 'CP值', '荷花酥', '桂花涼糕', '仙楂糕', '包種茶凍', '桔餅', '艾窩窩', '驢打滾',\n",
       "       '芸豆卷', '好療癒啊', '早午餐', '油煙味', '現點現做', '很juicy', '厲害的來啦', '飽足感',\n",
       "       '唰嘴', '當地人力推', '你看看', '不多說', '後腿肉', '桌邊服務', '恰到好處', '人生小確幸',\n",
       "       '踩到地雷', '有嚇到', '熱騰騰', '暴漿', '阿莎力', '整個就是', '打著超響字號', '普普', '超人氣',\n",
       "       '老天有保佑', '說實在的', '紅豆餅', '我沒什麼感覺', '水煎包', '肉圓', 'orz', '饒河夜市',\n",
       "       '胡椒餅', '排骨酥', '豬血糕', '滷麻糬', '茶葉蛋', '地瓜球', '血拼', '一口接一口', '無法抵抗',\n",
       "       '未知數', '外帶', '平價', '牽絲', '人間美味', '天不從人願'], dtype=object)"
      ]
     },
     "execution_count": 17,
     "metadata": {},
     "output_type": "execute_result"
    }
   ],
   "source": [
    "annot_frames.lexical_unit.values"
   ]
  },
  {
   "cell_type": "code",
   "execution_count": 18,
   "metadata": {},
   "outputs": [],
   "source": [
    "gran.install_data_cache(\"deep_annot\")\n",
    "annot_path = gran.get_cache_path(\"deep_annot\", \"annotations.csv\")\n",
    "annot_frames.to_csv(annot_path)"
   ]
  },
  {
   "cell_type": "code",
   "execution_count": 55,
   "metadata": {},
   "outputs": [],
   "source": [
    "ug_path = gran.get_cache_path('lang_model', 'uni_grams.pkl')\n",
    "bg_path = gran.get_cache_path('lang_model', 'bi_grams.pkl')\n",
    "tg_path = gran.get_cache_path('lang_model', 'tri_grams.pkl')\n",
    "qg_path = gran.get_cache_path('lang_model', 'quad_grams.pkl')\n",
    "pg_path = gran.get_cache_path('lang_model', 'penta_grams.pkl')"
   ]
  },
  {
   "cell_type": "code",
   "execution_count": 56,
   "metadata": {},
   "outputs": [
    {
     "data": {
      "text/plain": [
       "True"
      ]
     },
     "execution_count": 56,
     "metadata": {},
     "output_type": "execute_result"
    }
   ],
   "source": [
    "ug_path.exists()"
   ]
  },
  {
   "cell_type": "code",
   "execution_count": 59,
   "metadata": {},
   "outputs": [],
   "source": [
    "import requests\n",
    "from bs4 import BeautifulSoup\n",
    "import re\n",
    "\n",
    "def find_links(category):\n",
    "    atags = ngrams_dom.find_all(\"a\", {\n",
    "        'href': re.compile(f'googlebooks-chi-sim-all-{category}-2012')})\n",
    "    links = [x.get('href') for x in atags]\n",
    "    links = [x for x in links if x]\n",
    "    return links\n",
    "\n",
    "ngrams_index_url = \"http://storage.googleapis.com/books/ngrams/books/datasetsv2.html\"\n",
    "ngrams_index = requests.get(ngrams_index_url)\n",
    "ngrams_dom = BeautifulSoup(ngrams_index.text)\n",
    "tc_links = find_links('totalcounts')\n",
    "tc_data = requests.get(tc_links[0]).text"
   ]
  },
  {
   "cell_type": "code",
   "execution_count": 89,
   "metadata": {},
   "outputs": [],
   "source": [
    "total_counts = pd.DataFrame(map(int, x.split(\",\")) for x in tc_data.strip().split(\"\\t\"))"
   ]
  },
  {
   "cell_type": "code",
   "execution_count": 90,
   "metadata": {},
   "outputs": [],
   "source": [
    "total_counts.columns = [\"year\", \"match_count\", \"page_count\", \"volume_count\"]"
   ]
  },
  {
   "cell_type": "code",
   "execution_count": 92,
   "metadata": {},
   "outputs": [],
   "source": [
    "ng_N = total_counts.match_count.sum()"
   ]
  },
  {
   "cell_type": "code",
   "execution_count": 103,
   "metadata": {},
   "outputs": [],
   "source": [
    "import pickle\n",
    "import numpy as np\n",
    "import matplotlib.pyplot as plt"
   ]
  },
  {
   "cell_type": "code",
   "execution_count": 93,
   "metadata": {},
   "outputs": [],
   "source": [
    "with open(pg_path, \"rb\") as fin:\n",
    "    pg = pickle.load(fin)"
   ]
  },
  {
   "cell_type": "code",
   "execution_count": 106,
   "metadata": {},
   "outputs": [],
   "source": [
    "with open(ug_path, \"rb\") as fin:\n",
    "    ug = pickle.load(fin)[0]"
   ]
  },
  {
   "cell_type": "code",
   "execution_count": 115,
   "metadata": {},
   "outputs": [],
   "source": [
    "ng_1 = next(iter(pg.items()))"
   ]
  },
  {
   "cell_type": "markdown",
   "metadata": {},
   "source": [
    "$$\n",
    "pmi(x_1, \\ldots x_n) = [\\log f(x_1, \\ldots x_n) - log N] - \\left[ \\sum^N_{i=1} log f(x_i) - log N\\right]\n",
    "$$\n",
    "\n",
    "see 3.2 in Van de Cruys (2011) [pdf](http://www.timvandecruys.be/media/papers/VandeCruys2011Two.pdf)"
   ]
  },
  {
   "cell_type": "code",
   "execution_count": 165,
   "metadata": {},
   "outputs": [],
   "source": [
    "def compute_pmi(ng, ng_freq, ug, ngN):\n",
    "    toks = ng.split(\"|\")\n",
    "    logFreq_nom = np.log(ng_freq)\n",
    "    logFreq_denom = 0\n",
    "    logngN = np.log(ngN)    \n",
    "    for tok_x in toks:\n",
    "        try:\n",
    "            logFreq_nom += np.log(ug[tok_x])        \n",
    "        except KeyError:\n",
    "            return float(\"-inf\")\n",
    "    pmi = (logFreq_nom - logFreq_denom) + logngN * (len(ng)-1)    \n",
    "    return pmi"
   ]
  },
  {
   "cell_type": "code",
   "execution_count": 168,
   "metadata": {},
   "outputs": [],
   "source": [
    "def generate_pmi(ng_data):\n",
    "    ng_pmi = {}\n",
    "    for ng_x, ng_freq in tqdm(ng_data.items()):\n",
    "        ng_pmi[ng_x] = compute_pmi(ng_x, ng_freq, ug, ng_N)\n",
    "    return ng_pmi"
   ]
  },
  {
   "cell_type": "code",
   "execution_count": null,
   "metadata": {},
   "outputs": [],
   "source": [
    "def export_ng_pmi(ng_pmi, sorted_ng, fname, cutN):\n",
    "    ng_pmi_path = gran.get_cache_path(\"pmi_data\", fname)    \n",
    "    ng_pmi_saved = {ng: ng_pmi[ng] for ng in sorted_ng[:cutN]}\n",
    "    with open(ng_pmi_path, \"wb\") as fout:\n",
    "        pickle.dump(ng_pmi_saved, fout)"
   ]
  },
  {
   "cell_type": "markdown",
   "metadata": {},
   "source": [
    "## Penta-gram"
   ]
  },
  {
   "cell_type": "code",
   "execution_count": 169,
   "metadata": {},
   "outputs": [
    {
     "data": {
      "application/vnd.jupyter.widget-view+json": {
       "model_id": "9d9f3faa49aa4cd7ab108f24a8d1089c",
       "version_major": 2,
       "version_minor": 0
      },
      "text/plain": [
       "HBox(children=(IntProgress(value=0, max=5011002), HTML(value='')))"
      ]
     },
     "metadata": {},
     "output_type": "display_data"
    },
    {
     "name": "stdout",
     "output_type": "stream",
     "text": [
      "\n"
     ]
    }
   ],
   "source": [
    "pg_pmi = generate_pmi(pg)   "
   ]
  },
  {
   "cell_type": "code",
   "execution_count": 171,
   "metadata": {},
   "outputs": [],
   "source": [
    "sorted_pg = sorted(pg_pmi.keys(), key=pg_pmi.get)\n",
    "sorted_pmi = sorted(pg_pmi.values(), reverse=True)"
   ]
  },
  {
   "cell_type": "code",
   "execution_count": 173,
   "metadata": {},
   "outputs": [
    {
     "data": {
      "text/plain": [
       "[<matplotlib.lines.Line2D at 0x1e8933887b8>]"
      ]
     },
     "execution_count": 173,
     "metadata": {},
     "output_type": "execute_result"
    },
    {
     "data": {
      "image/png": "[encoded data removed]",
      "text/plain": [
       "<Figure size 432x288 with 1 Axes>"
      ]
     },
     "metadata": {
      "needs_background": "light"
     },
     "output_type": "display_data"
    }
   ],
   "source": [
    "plt.plot(sorted_pmi[:3000])"
   ]
  },
  {
   "cell_type": "code",
   "execution_count": 177,
   "metadata": {},
   "outputs": [],
   "source": [
    "gran.install_data_cache(\"pmi_data\")"
   ]
  },
  {
   "cell_type": "code",
   "execution_count": 179,
   "metadata": {},
   "outputs": [],
   "source": [
    "export_ng_pmi(pg_pmi, sorted_pg, \"pg_pmi.pkl\", 3000)"
   ]
  },
  {
   "cell_type": "code",
   "execution_count": 181,
   "metadata": {},
   "outputs": [],
   "source": [
    "del pg_pmi, sorted_pg, pg"
   ]
  },
  {
   "cell_type": "markdown",
   "metadata": {},
   "source": [
    "## Quadgram"
   ]
  },
  {
   "cell_type": "code",
   "execution_count": 182,
   "metadata": {},
   "outputs": [],
   "source": [
    "with open(qg_path, \"rb\") as fin:\n",
    "    qg = pickle.load(fin)\n",
    "qg_pmi = generate_pmi(qg)"
   ]
  },
  {
   "cell_type": "code",
   "execution_count": 183,
   "metadata": {},
   "outputs": [],
   "source": [
    "sorted_qg = sorted(qg_pmi.keys(), key=qg_pmi.get)\n",
    "sorted_pmi = sorted(qg_pmi.values(), reverse=True)"
   ]
  },
  {
   "cell_type": "code",
   "execution_count": 189,
   "metadata": {},
   "outputs": [
    {
     "data": {
      "text/plain": [
       "[<matplotlib.lines.Line2D at 0x1e86acacb38>]"
      ]
     },
     "execution_count": 189,
     "metadata": {},
     "output_type": "execute_result"
    },
    {
     "data": {
      "image/png": "[encoded data removed]",
      "text/plain": [
       "<Figure size 432x288 with 1 Axes>"
      ]
     },
     "metadata": {
      "needs_background": "light"
     },
     "output_type": "display_data"
    }
   ],
   "source": [
    "plt.plot(sorted_pmi[:5000])"
   ]
  },
  {
   "cell_type": "code",
   "execution_count": 190,
   "metadata": {},
   "outputs": [],
   "source": [
    "export_ng_pmi(qg_pmi, sorted_qg, \"qg_pmi.pkl\", 2500)"
   ]
  },
  {
   "cell_type": "code",
   "execution_count": 191,
   "metadata": {},
   "outputs": [],
   "source": [
    "del qg_pmi, sorted_qg, qg"
   ]
  },
  {
   "cell_type": "markdown",
   "metadata": {},
   "source": [
    "## Trigram"
   ]
  },
  {
   "cell_type": "code",
   "execution_count": 192,
   "metadata": {},
   "outputs": [
    {
     "data": {
      "application/vnd.jupyter.widget-view+json": {
       "model_id": "9fa8cbed20ca424cb10dc9ac5840232d",
       "version_major": 2,
       "version_minor": 0
      },
      "text/plain": [
       "HBox(children=(IntProgress(value=0, max=5518177), HTML(value='')))"
      ]
     },
     "metadata": {},
     "output_type": "display_data"
    },
    {
     "name": "stdout",
     "output_type": "stream",
     "text": [
      "\n"
     ]
    }
   ],
   "source": [
    "with open(tg_path, \"rb\") as fin:\n",
    "    tg = pickle.load(fin)\n",
    "tg_pmi = generate_pmi(tg)\n",
    "sorted_tg = sorted(tg_pmi.keys(), key=tg_pmi.get)\n",
    "sorted_pmi = sorted(tg_pmi.values(), reverse=True)"
   ]
  },
  {
   "cell_type": "code",
   "execution_count": 193,
   "metadata": {},
   "outputs": [
    {
     "data": {
      "text/plain": [
       "[<matplotlib.lines.Line2D at 0x1e8d0dcc390>]"
      ]
     },
     "execution_count": 193,
     "metadata": {},
     "output_type": "execute_result"
    },
    {
     "data": {
      "image/png": "[encoded data removed]",
      "text/plain": [
       "<Figure size 432x288 with 1 Axes>"
      ]
     },
     "metadata": {
      "needs_background": "light"
     },
     "output_type": "display_data"
    }
   ],
   "source": [
    "plt.plot(sorted_pmi[:5000])"
   ]
  },
  {
   "cell_type": "code",
   "execution_count": 194,
   "metadata": {},
   "outputs": [],
   "source": [
    "export_ng_pmi(tg_pmi, sorted_tg, \"tg_pmi.pkl\",3500)"
   ]
  },
  {
   "cell_type": "code",
   "execution_count": 195,
   "metadata": {},
   "outputs": [],
   "source": [
    "del tg_pmi, sorted_tg, tg"
   ]
  },
  {
   "cell_type": "markdown",
   "metadata": {},
   "source": [
    "## Bigram"
   ]
  },
  {
   "cell_type": "code",
   "execution_count": 197,
   "metadata": {},
   "outputs": [
    {
     "data": {
      "application/vnd.jupyter.widget-view+json": {
       "model_id": "b52cad85f2ad404797fa43254e80e405",
       "version_major": 2,
       "version_minor": 0
      },
      "text/plain": [
       "HBox(children=(IntProgress(value=0, max=9173614), HTML(value='')))"
      ]
     },
     "metadata": {},
     "output_type": "display_data"
    },
    {
     "name": "stdout",
     "output_type": "stream",
     "text": [
      "\n"
     ]
    }
   ],
   "source": [
    "with open(bg_path, \"rb\") as fin:\n",
    "    bg = pickle.load(fin)[0]\n",
    "bg_pmi = generate_pmi(bg)\n",
    "sorted_bg = sorted(bg_pmi.keys(), key=bg_pmi.get)\n",
    "sorted_pmi = sorted(bg_pmi.values(), reverse=True)"
   ]
  },
  {
   "cell_type": "code",
   "execution_count": 199,
   "metadata": {},
   "outputs": [
    {
     "data": {
      "text/plain": [
       "[<matplotlib.lines.Line2D at 0x1e85370f860>]"
      ]
     },
     "execution_count": 199,
     "metadata": {},
     "output_type": "execute_result"
    },
    {
     "data": {
      "image/png": "[encoded data removed]",
      "text/plain": [
       "<Figure size 432x288 with 1 Axes>"
      ]
     },
     "metadata": {
      "needs_background": "light"
     },
     "output_type": "display_data"
    }
   ],
   "source": [
    "plt.plot(sorted_pmi[:5000])"
   ]
  },
  {
   "cell_type": "code",
   "execution_count": 200,
   "metadata": {},
   "outputs": [],
   "source": [
    "export_ng_pmi(bg_pmi, sorted_bg, \"bg_pmi.pkl\", 2800)"
   ]
  },
  {
   "cell_type": "code",
   "execution_count": 201,
   "metadata": {},
   "outputs": [],
   "source": [
    "del bg_pmi, sorted_bg, bg"
   ]
  },
  {
   "cell_type": "code",
   "execution_count": null,
   "metadata": {},
   "outputs": [],
   "source": []
  }
 ],
 "metadata": {
  "kernelspec": {
   "display_name": "Python 3",
   "language": "python",
   "name": "python3"
  },
  "language_info": {
   "codemirror_mode": {
    "name": "ipython",
    "version": 3
   },
   "file_extension": ".py",
   "mimetype": "text/x-python",
   "name": "python",
   "nbconvert_exporter": "python",
   "pygments_lexer": "ipython3",
   "version": "3.7.0"
  }
 },
 "nbformat": 4,
 "nbformat_minor": 4
}
